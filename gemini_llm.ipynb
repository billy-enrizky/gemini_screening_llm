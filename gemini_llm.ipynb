{
 "cells": [
  {
   "cell_type": "code",
   "execution_count": 1,
   "metadata": {},
   "outputs": [],
   "source": [
    "import pandas as pd"
   ]
  },
  {
   "cell_type": "markdown",
   "metadata": {},
   "source": [
    "## 3. Review our results"
   ]
  },
  {
   "cell_type": "code",
   "execution_count": 2,
   "metadata": {},
   "outputs": [],
   "source": [
    "# Our results\n",
    "my_df = pd.read_csv('analyzed_studies.csv')"
   ]
  },
  {
   "cell_type": "code",
   "execution_count": 3,
   "metadata": {},
   "outputs": [
    {
     "data": {
      "text/plain": [
       "<Axes: xlabel='llm_decision', ylabel='count'>"
      ]
     },
     "execution_count": 3,
     "metadata": {},
     "output_type": "execute_result"
    },
    {
     "data": {
      "image/png": "[encoded data removed]",
      "text/plain": [
       "<Figure size 640x480 with 1 Axes>"
      ]
     },
     "metadata": {},
     "output_type": "display_data"
    }
   ],
   "source": [
    "import seaborn as sns\n",
    "sns.countplot(my_df, x='llm_decision')"
   ]
  },
  {
   "cell_type": "code",
   "execution_count": 4,
   "metadata": {},
   "outputs": [
    {
     "data": {
      "text/markdown": [
       "|                          | 0                                                                                                                                                                                                                                                                                                                                                                                                                                                                                                                                                                                                                                                                                                                                                                                                                                                                                                                                                                                                                                                                                                                                                                                                                                                                                                                                                                                                                                                                                                                                                                                                                                                                                                                                                                                                                                                                                                                                                                                                                              |\n",
       "|:-------------------------|:-------------------------------------------------------------------------------------------------------------------------------------------------------------------------------------------------------------------------------------------------------------------------------------------------------------------------------------------------------------------------------------------------------------------------------------------------------------------------------------------------------------------------------------------------------------------------------------------------------------------------------------------------------------------------------------------------------------------------------------------------------------------------------------------------------------------------------------------------------------------------------------------------------------------------------------------------------------------------------------------------------------------------------------------------------------------------------------------------------------------------------------------------------------------------------------------------------------------------------------------------------------------------------------------------------------------------------------------------------------------------------------------------------------------------------------------------------------------------------------------------------------------------------------------------------------------------------------------------------------------------------------------------------------------------------------------------------------------------------------------------------------------------------------------------------------------------------------------------------------------------------------------------------------------------------------------------------------------------------------------------------------------------------|\n",
       "| study_identifier         | {'title': 'Rejuvesol: Package Insert', 'abstract': 'Abstract not available in the source database.'}                                                                                                                                                                                                                                                                                                                                                                                                                                                                                                                                                                                                                                                                                                                                                                                                                                                                                                                                                                                                                                                                                                                                                                                                                                                                                                                                                                                                                                                                                                                                                                                                                                                                                                                                                                                                                                                                                                                           |\n",
       "| llm_analysis             | {'include_criteria_met': ['English language'], 'exclude_criteria_met': ['Non-peer-reviewed or preprint', 'No liposome-RBC interaction implications'], 'decision': 'exclude', 'reasoning_summary': ['The screening process began by assessing Exclusion Criteria, according to Decision Logic 1.', \"The exclusion criterion 'Non-peer-reviewed or preprint' is met. The title 'Rejuvesol: Package Insert' indicates that the document is a package insert. Package inserts are regulatory documents for medicinal products and are not considered peer-reviewed scientific publications or preprints.\", \"The exclusion criterion 'No liposome-RBC interaction implications' is also met. The title 'Rejuvesol: Package Insert' provides no information about liposomes or their interactions with RBCs. The abstract is 'Abstract not available in the source database,' so it offers no details on this subject.\", \"As per Decision Logic 1, if ANY exclusion criterion is met, the decision is 'exclude'. Since 'Non-peer-reviewed or preprint' (and 'No liposome-RBC interaction implications') are met, the paper is decisively excluded.\", \"For completeness, the 'English language' inclusion criterion was checked (Decision Logic 3). The title 'Rejuvesol: Package Insert' is in English, so this criterion is met.\", \"Other inclusion criteria were assessed: 'Effects on RBC properties/function', 'Liposome-RBC interaction', 'Relevant study type', 'Liposome/RBC properties with interaction implications', 'Applications of liposome-RBC interactions', and 'Theoretical/computational study' are not met. The title does not provide information to satisfy these criteria, and the abstract is unavailable.\", \"Despite meeting the 'English language' criterion, the paper is excluded because exclusion criteria were met. Furthermore, the conditions for inclusion (Decision Logic 4 or 5) are not fulfilled due to the lack of relevant content regarding liposome-RBC interactions or effects on RBCs.\"]} |\n",
       "| llm_include_criteria_met | ['English language']                                                                                                                                                                                                                                                                                                                                                                                                                                                                                                                                                                                                                                                                                                                                                                                                                                                                                                                                                                                                                                                                                                                                                                                                                                                                                                                                                                                                                                                                                                                                                                                                                                                                                                                                                                                                                                                                                                                                                                                                           |\n",
       "| llm_exclude_criteria_met | ['Non-peer-reviewed or preprint', 'No liposome-RBC interaction implications']                                                                                                                                                                                                                                                                                                                                                                                                                                                                                                                                                                                                                                                                                                                                                                                                                                                                                                                                                                                                                                                                                                                                                                                                                                                                                                                                                                                                                                                                                                                                                                                                                                                                                                                                                                                                                                                                                                                                                  |\n",
       "| llm_decision             | exclude                                                                                                                                                                                                                                                                                                                                                                                                                                                                                                                                                                                                                                                                                                                                                                                                                                                                                                                                                                                                                                                                                                                                                                                                                                                                                                                                                                                                                                                                                                                                                                                                                                                                                                                                                                                                                                                                                                                                                                                                                        |\n",
       "| llm_reasoning_summary    | ['The screening process began by assessing Exclusion Criteria, according to Decision Logic 1.', \"The exclusion criterion 'Non-peer-reviewed or preprint' is met. The title 'Rejuvesol: Package Insert' indicates that the document is a package insert. Package inserts are regulatory documents for medicinal products and are not considered peer-reviewed scientific publications or preprints.\", \"The exclusion criterion 'No liposome-RBC interaction implications' is also met. The title 'Rejuvesol: Package Insert' provides no information about liposomes or their interactions with RBCs. The abstract is 'Abstract not available in the source database,' so it offers no details on this subject.\", \"As per Decision Logic 1, if ANY exclusion criterion is met, the decision is 'exclude'. Since 'Non-peer-reviewed or preprint' (and 'No liposome-RBC interaction implications') are met, the paper is decisively excluded.\", \"For completeness, the 'English language' inclusion criterion was checked (Decision Logic 3). The title 'Rejuvesol: Package Insert' is in English, so this criterion is met.\", \"Other inclusion criteria were assessed: 'Effects on RBC properties/function', 'Liposome-RBC interaction', 'Relevant study type', 'Liposome/RBC properties with interaction implications', 'Applications of liposome-RBC interactions', and 'Theoretical/computational study' are not met. The title does not provide information to satisfy these criteria, and the abstract is unavailable.\", \"Despite meeting the 'English language' criterion, the paper is excluded because exclusion criteria were met. Furthermore, the conditions for inclusion (Decision Logic 4 or 5) are not fulfilled due to the lack of relevant content regarding liposome-RBC interactions or effects on RBCs.\"]                                                                                                                                                                                                    |"
      ],
      "text/plain": [
       "<IPython.core.display.Markdown object>"
      ]
     },
     "metadata": {},
     "output_type": "display_data"
    }
   ],
   "source": [
    "from IPython.display import display, Markdown\n",
    "def preview(df):\n",
    "    display(Markdown(df.iloc[0].T.to_markdown()))\n",
    "\n",
    "preview(my_df)"
   ]
  },
  {
   "cell_type": "code",
   "execution_count": 5,
   "metadata": {},
   "outputs": [
    {
     "data": {
      "text/plain": [
       "'exclude'"
      ]
     },
     "execution_count": 5,
     "metadata": {},
     "output_type": "execute_result"
    }
   ],
   "source": [
    "my_df.loc[0]['llm_decision']"
   ]
  },
  {
   "cell_type": "markdown",
   "metadata": {},
   "source": [
    "## 2. Run screening agent\n",
    "\n",
    "Run `first_gemini_prototype.py` "
   ]
  },
  {
   "cell_type": "markdown",
   "metadata": {},
   "source": [
    "## 1. Preprocess dataset\n",
    "\n",
    "Data source: https://huggingface.co/datasets/UtopiansRareTruth/Liposome-RBC_Scoping_Review_Screening\n",
    "\n",
    "Data license: MIT"
   ]
  },
  {
   "cell_type": "code",
   "execution_count": 6,
   "metadata": {},
   "outputs": [],
   "source": [
    "import json\n",
    "with open('Liposome-RBC_Scoping_Review_Screening.json', 'r') as f:\n",
    "    df = pd.json_normalize(json.load(f))  # load as JSON to parse nested dicts as cols\n",
    "df.set_index('study_identifier.key', inplace=True)"
   ]
  },
  {
   "cell_type": "code",
   "execution_count": 7,
   "metadata": {},
   "outputs": [
    {
     "data": {
      "text/markdown": [
       "|                                                 | rayyan-75172665                                                                                                                                                                                                                                                                 |\n",
       "|:------------------------------------------------|:--------------------------------------------------------------------------------------------------------------------------------------------------------------------------------------------------------------------------------------------------------------------------------|\n",
       "| study_identifier.title                          | Rejuvesol: Package Insert                                                                                                                                                                                                                                                       |\n",
       "| study_identifier.doi                            | DOI not available                                                                                                                                                                                                                                                               |\n",
       "| study_identifier.abstract                       | Abstract not available in the source database.                                                                                                                                                                                                                                  |\n",
       "| title_abstract_screening.context                | []                                                                                                                                                                                                                                                                              |\n",
       "| title_abstract_screening.thoughts               | ['There is no abstract available for this study.', \"Without an abstract, it's impossible to determine if the study is relevant to liposome-RBC interactions.\", \"The title 'Rejuvesol: Package Insert' doesn't provide enough information to infer relevance to the topic.\"]     |\n",
       "| title_abstract_screening.summary                | Due to the lack of an abstract and insufficient information in the title, it's impossible to assess this study's relevance to liposome-RBC interactions.                                                                                                                        |\n",
       "| title_abstract_screening.inclusion_criteria_met | []                                                                                                                                                                                                                                                                              |\n",
       "| title_abstract_screening.exclusion_criteria_met | ['Full text unavailable']                                                                                                                                                                                                                                                       |\n",
       "| final_decision.context                          | ['No abstract is available for this study.', \"The title doesn't provide enough information to determine relevance.\"]                                                                                                                                                            |\n",
       "| final_decision.thoughts                         | ['Without an abstract, we cannot evaluate the study against the inclusion criteria.', \"The lack of information meets the exclusion criterion 'Full text unavailable'.\", \"It's not possible to make an informed decision about the study's relevance without more information.\"] |\n",
       "| final_decision.summary                          | Due to the absence of an abstract and lack of information in the title, this study cannot be evaluated for relevance to liposome-RBC interactions. It must be excluded based on the 'Full text unavailable' criterion.                                                          |\n",
       "| final_decision.decision                         | Exclude                                                                                                                                                                                                                                                                         |"
      ],
      "text/plain": [
       "<IPython.core.display.Markdown object>"
      ]
     },
     "metadata": {},
     "output_type": "display_data"
    }
   ],
   "source": [
    "preview(df)"
   ]
  },
  {
   "cell_type": "code",
   "execution_count": 8,
   "metadata": {},
   "outputs": [],
   "source": [
    "# Create a new DataFrame with only 'title' and 'abstract' from 'study_identifier'\n",
    "col_rename_map = {\n",
    "    'study_identifier.title': 'title',\n",
    "    'study_identifier.abstract': 'abstract'\n",
    "}\n",
    "my_df = df.copy()\n",
    "my_df = my_df[col_rename_map.keys()]\n",
    "my_df = my_df.rename(columns=col_rename_map)"
   ]
  },
  {
   "cell_type": "code",
   "execution_count": 9,
   "metadata": {},
   "outputs": [
    {
     "data": {
      "text/markdown": [
       "|          | rayyan-75172665                                |\n",
       "|:---------|:-----------------------------------------------|\n",
       "| title    | Rejuvesol: Package Insert                      |\n",
       "| abstract | Abstract not available in the source database. |"
      ],
      "text/plain": [
       "<IPython.core.display.Markdown object>"
      ]
     },
     "metadata": {},
     "output_type": "display_data"
    }
   ],
   "source": [
    "preview(my_df)"
   ]
  },
  {
   "cell_type": "code",
   "execution_count": 10,
   "metadata": {},
   "outputs": [
    {
     "name": "stdout",
     "output_type": "stream",
     "text": [
      "Before: 88 missing abstract(s)\n",
      "After: 0 missing abstract(s)\n"
     ]
    }
   ],
   "source": [
    "# Drop any records with missing abstracts\n",
    "def missing_abstract_mask(df):\n",
    "    return (df['abstract'] == 'Abstract not available in the source database.')\n",
    "\n",
    "print(f\"Before: {len(my_df[missing_abstract_mask(my_df)])} missing abstract(s)\")\n",
    "my_df.drop(my_df[missing_abstract_mask].index, inplace=True)\n",
    "print(f\"After: {len(my_df[missing_abstract_mask(my_df)])} missing abstract(s)\")"
   ]
  },
  {
   "cell_type": "code",
   "execution_count": 11,
   "metadata": {},
   "outputs": [],
   "source": [
    "import pickle\n",
    "with open('my_df.pkl', 'wb') as f:\n",
    "    pickle.dump(my_df,f)"
   ]
  }
 ],
 "metadata": {
  "kernelspec": {
   "display_name": "gemini_llm",
   "language": "python",
   "name": "python3"
  },
  "language_info": {
   "codemirror_mode": {
    "name": "ipython",
    "version": 3
   },
   "file_extension": ".py",
   "mimetype": "text/x-python",
   "name": "python",
   "nbconvert_exporter": "python",
   "pygments_lexer": "ipython3",
   "version": "3.10.16"
  }
 },
 "nbformat": 4,
 "nbformat_minor": 2
}
