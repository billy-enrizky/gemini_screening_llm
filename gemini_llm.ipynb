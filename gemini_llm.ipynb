{
 "cells": [
  {
   "cell_type": "code",
   "execution_count": 1,
   "metadata": {},
   "outputs": [],
   "source": [
    "import pandas as pd"
   ]
  },
  {
   "cell_type": "code",
   "execution_count": 2,
   "metadata": {},
   "outputs": [],
   "source": [
    "my_df = pd.read_csv('analyzed_studies.csv')"
   ]
  },
  {
   "cell_type": "code",
   "execution_count": 9,
   "metadata": {},
   "outputs": [
    {
     "data": {
      "text/plain": [
       "<Axes: xlabel='llm_decision', ylabel='count'>"
      ]
     },
     "execution_count": 9,
     "metadata": {},
     "output_type": "execute_result"
    },
    {
     "data": {
      "image/png": "[encoded data removed]",
      "text/plain": [
       "<Figure size 640x480 with 1 Axes>"
      ]
     },
     "metadata": {},
     "output_type": "display_data"
    }
   ],
   "source": [
    "import seaborn as sns\n",
    "sns.countplot(my_df, x='llm_decision')"
   ]
  },
  {
   "cell_type": "code",
   "execution_count": 12,
   "metadata": {},
   "outputs": [
    {
     "data": {
      "text/plain": [
       "'{\\'context\\': [\\'No abstract is available for this study.\\', \"The title doesn\\'t provide enough information to determine relevance.\"], \\'thoughts\\': [\\'Without an abstract, we cannot evaluate the study against the inclusion criteria.\\', \"The lack of information meets the exclusion criterion \\'Full text unavailable\\'.\", \"It\\'s not possible to make an informed decision about the study\\'s relevance without more information.\"], \\'summary\\': \"Due to the absence of an abstract and lack of information in the title, this study cannot be evaluated for relevance to liposome-RBC interactions. It must be excluded based on the \\'Full text unavailable\\' criterion.\", \\'decision\\': \\'Exclude\\'}'"
      ]
     },
     "execution_count": 12,
     "metadata": {},
     "output_type": "execute_result"
    }
   ],
   "source": [
    "my_df.loc[0]['final_decision']"
   ]
  },
  {
   "cell_type": "code",
   "execution_count": 11,
   "metadata": {},
   "outputs": [],
   "source": [
    "import pandas as pd\n",
    "\n",
    "\n",
    "df = pd.read_json('Liposome-RBC_Scoping_Review_Screening.json')\n",
    "\n",
    "# Create a new DataFrame with only 'title' and 'abstract' from 'study_identifier'\n",
    "my_df = df.copy()\n",
    "my_df['study_identifier'] = my_df['study_identifier'].apply(lambda x: {'title': x['title'], 'abstract': x['abstract']})"
   ]
  },
  {
   "cell_type": "code",
   "execution_count": 12,
   "metadata": {},
   "outputs": [
    {
     "data": {
      "text/html": [
       "<div>\n",
       "<style scoped>\n",
       "    .dataframe tbody tr th:only-of-type {\n",
       "        vertical-align: middle;\n",
       "    }\n",
       "\n",
       "    .dataframe tbody tr th {\n",
       "        vertical-align: top;\n",
       "    }\n",
       "\n",
       "    .dataframe thead th {\n",
       "        text-align: right;\n",
       "    }\n",
       "</style>\n",
       "<table border=\"1\" class=\"dataframe\">\n",
       "  <thead>\n",
       "    <tr style=\"text-align: right;\">\n",
       "      <th></th>\n",
       "      <th>study_identifier</th>\n",
       "      <th>title_abstract_screening</th>\n",
       "      <th>final_decision</th>\n",
       "    </tr>\n",
       "  </thead>\n",
       "  <tbody>\n",
       "    <tr>\n",
       "      <th>0</th>\n",
       "      <td>{'title': 'Rejuvesol: Package Insert', 'abstra...</td>\n",
       "      <td>{'context': [], 'thoughts': ['There is no abst...</td>\n",
       "      <td>{'context': ['No abstract is available for thi...</td>\n",
       "    </tr>\n",
       "    <tr>\n",
       "      <th>1</th>\n",
       "      <td>{'title': 'PROCEEDINGS OF THE AUSTRALASIAN SOC...</td>\n",
       "      <td>{'context': ['This is a collection of proceedi...</td>\n",
       "      <td>{'context': ['The proceedings contain multiple...</td>\n",
       "    </tr>\n",
       "    <tr>\n",
       "      <th>2</th>\n",
       "      <td>{'title': 'Surface Engineering for Cell-Based ...</td>\n",
       "      <td>{'context': ['The review introduces strategies...</td>\n",
       "      <td>{'context': ['The review covers a broad range ...</td>\n",
       "    </tr>\n",
       "    <tr>\n",
       "      <th>3</th>\n",
       "      <td>{'title': 'Superoxide generation from human po...</td>\n",
       "      <td>{'context': ['The study investigates interacti...</td>\n",
       "      <td>{'context': ['The study focuses on liposome in...</td>\n",
       "    </tr>\n",
       "    <tr>\n",
       "      <th>4</th>\n",
       "      <td>{'title': 'Vesicles and red blood cells in she...</td>\n",
       "      <td>{'context': ['The study describes the behavior...</td>\n",
       "      <td>{'context': ['The study compares the behavior ...</td>\n",
       "    </tr>\n",
       "    <tr>\n",
       "      <th>...</th>\n",
       "      <td>...</td>\n",
       "      <td>...</td>\n",
       "      <td>...</td>\n",
       "    </tr>\n",
       "    <tr>\n",
       "      <th>2147</th>\n",
       "      <td>{'title': 'Oligomerization of Vibrio cholerae ...</td>\n",
       "      <td>{'context': ['Pore formation has been observed...</td>\n",
       "      <td>{'context': ['Protein study', 'Separate system...</td>\n",
       "    </tr>\n",
       "    <tr>\n",
       "      <th>2148</th>\n",
       "      <td>{'title': 'Effect of sodium arsenite on liposo...</td>\n",
       "      <td>{'context': ['Abstract not available'], 'thoug...</td>\n",
       "      <td>{'context': ['No abstract available', 'Cannot ...</td>\n",
       "    </tr>\n",
       "    <tr>\n",
       "      <th>2149</th>\n",
       "      <td>{'title': 'Rapid distribution of liposomal sho...</td>\n",
       "      <td>{'context': ['Examination of ceramide liposome...</td>\n",
       "      <td>{'context': ['Distribution study', 'Partitioni...</td>\n",
       "    </tr>\n",
       "    <tr>\n",
       "      <th>2150</th>\n",
       "      <td>{'title': 'Dual-Modal Nanoscavenger for Detoxi...</td>\n",
       "      <td>{'context': ['We first developed a novel nanos...</td>\n",
       "      <td>{'context': ['Membrane hybrid system', 'Direct...</td>\n",
       "    </tr>\n",
       "    <tr>\n",
       "      <th>2151</th>\n",
       "      <td>{'title': 'Controlled proteolysis of the purif...</td>\n",
       "      <td>{'context': ['The Mr = 90,000 fragment can be ...</td>\n",
       "      <td>{'context': ['Protein characterization', 'Tool...</td>\n",
       "    </tr>\n",
       "  </tbody>\n",
       "</table>\n",
       "<p>2152 rows × 3 columns</p>\n",
       "</div>"
      ],
      "text/plain": [
       "                                       study_identifier  \\\n",
       "0     {'title': 'Rejuvesol: Package Insert', 'abstra...   \n",
       "1     {'title': 'PROCEEDINGS OF THE AUSTRALASIAN SOC...   \n",
       "2     {'title': 'Surface Engineering for Cell-Based ...   \n",
       "3     {'title': 'Superoxide generation from human po...   \n",
       "4     {'title': 'Vesicles and red blood cells in she...   \n",
       "...                                                 ...   \n",
       "2147  {'title': 'Oligomerization of Vibrio cholerae ...   \n",
       "2148  {'title': 'Effect of sodium arsenite on liposo...   \n",
       "2149  {'title': 'Rapid distribution of liposomal sho...   \n",
       "2150  {'title': 'Dual-Modal Nanoscavenger for Detoxi...   \n",
       "2151  {'title': 'Controlled proteolysis of the purif...   \n",
       "\n",
       "                               title_abstract_screening  \\\n",
       "0     {'context': [], 'thoughts': ['There is no abst...   \n",
       "1     {'context': ['This is a collection of proceedi...   \n",
       "2     {'context': ['The review introduces strategies...   \n",
       "3     {'context': ['The study investigates interacti...   \n",
       "4     {'context': ['The study describes the behavior...   \n",
       "...                                                 ...   \n",
       "2147  {'context': ['Pore formation has been observed...   \n",
       "2148  {'context': ['Abstract not available'], 'thoug...   \n",
       "2149  {'context': ['Examination of ceramide liposome...   \n",
       "2150  {'context': ['We first developed a novel nanos...   \n",
       "2151  {'context': ['The Mr = 90,000 fragment can be ...   \n",
       "\n",
       "                                         final_decision  \n",
       "0     {'context': ['No abstract is available for thi...  \n",
       "1     {'context': ['The proceedings contain multiple...  \n",
       "2     {'context': ['The review covers a broad range ...  \n",
       "3     {'context': ['The study focuses on liposome in...  \n",
       "4     {'context': ['The study compares the behavior ...  \n",
       "...                                                 ...  \n",
       "2147  {'context': ['Protein study', 'Separate system...  \n",
       "2148  {'context': ['No abstract available', 'Cannot ...  \n",
       "2149  {'context': ['Distribution study', 'Partitioni...  \n",
       "2150  {'context': ['Membrane hybrid system', 'Direct...  \n",
       "2151  {'context': ['Protein characterization', 'Tool...  \n",
       "\n",
       "[2152 rows x 3 columns]"
      ]
     },
     "execution_count": 12,
     "metadata": {},
     "output_type": "execute_result"
    }
   ],
   "source": [
    "my_df"
   ]
  },
  {
   "cell_type": "code",
   "execution_count": null,
   "metadata": {},
   "outputs": [],
   "source": [
    "my_df.drop(columns=['title_abstract_screening', 'final_decision'], inplace=True)"
   ]
  },
  {
   "cell_type": "code",
   "execution_count": null,
   "metadata": {},
   "outputs": [],
   "source": [
    "my_df"
   ]
  },
  {
   "cell_type": "code",
   "execution_count": null,
   "metadata": {},
   "outputs": [],
   "source": [
    "with open('my_df.pkl', 'wb') as f:\n",
    "    pickle.dump(my_df,f)"
   ]
  }
 ],
 "metadata": {
  "kernelspec": {
   "display_name": "gemini_llm",
   "language": "python",
   "name": "python3"
  },
  "language_info": {
   "codemirror_mode": {
    "name": "ipython",
    "version": 3
   },
   "file_extension": ".py",
   "mimetype": "text/x-python",
   "name": "python",
   "nbconvert_exporter": "python",
   "pygments_lexer": "ipython3",
   "version": "3.10.16"
  }
 },
 "nbformat": 4,
 "nbformat_minor": 2
}
